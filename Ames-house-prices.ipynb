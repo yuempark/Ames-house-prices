{
 "cells": [
  {
   "cell_type": "markdown",
   "metadata": {
    "papermill": {
     "duration": 0.047655,
     "end_time": "2020-09-15T15:22:10.977675",
     "exception": false,
     "start_time": "2020-09-15T15:22:10.930020",
     "status": "completed"
    },
    "tags": []
   },
   "source": [
    "# Ames, Iowa House Price Prediction\n",
    "\n",
    "Contributors: Yuem Park\n",
    "\n",
    "Here we just practice some regression techniques using a tabular dataset on house prices in Ames, Iowa.\n",
    "\n",
    "**NOTE:** This notebook was executed on a Kaggle kernel, within the context of [this ongoing Kaggle competition](https://www.kaggle.com/c/house-prices-advanced-regression-techniques). If you'd like to fork this notebook with the associated data, please visit the version of this notebook that is hosted on Kaggle, available [here](https://www.kaggle.com/yuempark/ames-iowa-house-price-prediction)."
   ]
  },
  {
   "cell_type": "code",
   "execution_count": 1,
   "metadata": {
    "_cell_guid": "b1076dfc-b9ad-4769-8c92-a6c4dae69d19",
    "_uuid": "8f2839f25d086af736a60e9eeb907d3b93b6e0e5",
    "execution": {
     "iopub.execute_input": "2020-09-15T15:22:11.074552Z",
     "iopub.status.busy": "2020-09-15T15:22:11.073583Z",
     "iopub.status.idle": "2020-09-15T15:22:11.077237Z",
     "shell.execute_reply": "2020-09-15T15:22:11.076471Z"
    },
    "papermill": {
     "duration": 0.054956,
     "end_time": "2020-09-15T15:22:11.077377",
     "exception": false,
     "start_time": "2020-09-15T15:22:11.022421",
     "status": "completed"
    },
    "tags": []
   },
   "outputs": [],
   "source": [
    "import numpy as np\n",
    "import pandas as pd\n",
    "import os\n",
    "import matplotlib.pyplot as plt\n",
    "import time\n",
    "import math\n",
    "\n",
    "pd.set_option('display.max_columns', 999)\n",
    "\n",
    "import warnings\n",
    "from pandas.core.common import SettingWithCopyWarning\n",
    "warnings.simplefilter(action=\"ignore\", category=SettingWithCopyWarning)"
   ]
  },
  {
   "cell_type": "code",
   "execution_count": 2,
   "metadata": {
    "execution": {
     "iopub.execute_input": "2020-09-15T15:22:11.179353Z",
     "iopub.status.busy": "2020-09-15T15:22:11.178463Z",
     "iopub.status.idle": "2020-09-15T15:22:14.103808Z",
     "shell.execute_reply": "2020-09-15T15:22:14.102859Z"
    },
    "papermill": {
     "duration": 2.981704,
     "end_time": "2020-09-15T15:22:14.104051",
     "exception": false,
     "start_time": "2020-09-15T15:22:11.122347",
     "status": "completed"
    },
    "tags": []
   },
   "outputs": [],
   "source": [
    "from sklearn.model_selection import train_test_split\n",
    "\n",
    "from sklearn.ensemble import RandomForestRegressor\n",
    "from sklearn.ensemble import GradientBoostingRegressor\n",
    "from sklearn.ensemble import StackingRegressor\n",
    "\n",
    "from xgboost import XGBRegressor\n",
    "from lightgbm import LGBMRegressor\n",
    "\n",
    "from sklearn.metrics import mean_squared_error\n",
    "from sklearn.metrics import make_scorer\n",
    "from sklearn.preprocessing import RobustScaler\n",
    "from sklearn.model_selection import KFold\n",
    "from sklearn.model_selection import GridSearchCV\n",
    "from sklearn.model_selection import RandomizedSearchCV\n",
    "from sklearn.model_selection import cross_val_score\n",
    "from sklearn.base import BaseEstimator\n",
    "from sklearn.base import TransformerMixin\n",
    "from sklearn.base import RegressorMixin\n",
    "from sklearn.base import clone\n",
    "\n",
    "from scipy.stats import uniform\n",
    "from scipy.stats import loguniform\n",
    "\n",
    "from hyperopt import fmin, hp, tpe, Trials, space_eval, STATUS_OK\n",
    "from hyperopt.pyll import scope as ho_scope\n",
    "from hyperopt.pyll.stochastic import sample as ho_sample"
   ]
  },
  {
   "cell_type": "code",
   "execution_count": 3,
   "metadata": {
    "_cell_guid": "79c7e3d0-c299-4dcb-8224-4455121ee9b0",
    "_uuid": "d629ff2d2480ee46fbb7e2d37f6b5fab8052498a",
    "execution": {
     "iopub.execute_input": "2020-09-15T15:22:14.203782Z",
     "iopub.status.busy": "2020-09-15T15:22:14.202942Z",
     "iopub.status.idle": "2020-09-15T15:22:14.211236Z",
     "shell.execute_reply": "2020-09-15T15:22:14.210207Z"
    },
    "papermill": {
     "duration": 0.060001,
     "end_time": "2020-09-15T15:22:14.211369",
     "exception": false,
     "start_time": "2020-09-15T15:22:14.151368",
     "status": "completed"
    },
    "tags": []
   },
   "outputs": [
    {
     "name": "stdout",
     "output_type": "stream",
     "text": [
      "/kaggle/input/house-prices-advanced-regression-techniques/train.csv\n",
      "/kaggle/input/house-prices-advanced-regression-techniques/test.csv\n",
      "/kaggle/input/house-prices-advanced-regression-techniques/sample_submission.csv\n",
      "/kaggle/input/house-prices-advanced-regression-techniques/data_description.txt\n"
     ]
    }
   ],
   "source": [
    "for dirname, _, filenames in os.walk('/kaggle/input'):\n",
    "    for filename in filenames:\n",
    "        print(os.path.join(dirname, filename))"
   ]
  },
  {
   "cell_type": "markdown",
   "metadata": {
    "papermill": {
     "duration": 0.044785,
     "end_time": "2020-09-15T15:22:14.302330",
     "exception": false,
     "start_time": "2020-09-15T15:22:14.257545",
     "status": "completed"
    },
    "tags": []
   },
   "source": [
    "## Basic Feature Engineering"
   ]
  },
  {
   "cell_type": "code",
   "execution_count": 4,
   "metadata": {
    "execution": {
     "iopub.execute_input": "2020-09-15T15:22:14.399995Z",
     "iopub.status.busy": "2020-09-15T15:22:14.399167Z",
     "iopub.status.idle": "2020-09-15T15:22:14.457611Z",
     "shell.execute_reply": "2020-09-15T15:22:14.456843Z"
    },
    "papermill": {
     "duration": 0.109633,
     "end_time": "2020-09-15T15:22:14.457741",
     "exception": false,
     "start_time": "2020-09-15T15:22:14.348108",
     "status": "completed"
    },
    "tags": []
   },
   "outputs": [
    {
     "data": {
      "text/plain": [
       "(1460, 81)"
      ]
     },
     "execution_count": 4,
     "metadata": {},
     "output_type": "execute_result"
    }
   ],
   "source": [
    "train = pd.read_csv('/kaggle/input/house-prices-advanced-regression-techniques/train.csv')\n",
    "train.shape"
   ]
  },
  {
   "cell_type": "code",
   "execution_count": 5,
   "metadata": {
    "execution": {
     "iopub.execute_input": "2020-09-15T15:22:14.556092Z",
     "iopub.status.busy": "2020-09-15T15:22:14.555282Z",
     "iopub.status.idle": "2020-09-15T15:22:14.597834Z",
     "shell.execute_reply": "2020-09-15T15:22:14.597068Z"
    },
    "papermill": {
     "duration": 0.094309,
     "end_time": "2020-09-15T15:22:14.597986",
     "exception": false,
     "start_time": "2020-09-15T15:22:14.503677",
     "status": "completed"
    },
    "tags": []
   },
   "outputs": [
    {
     "data": {
      "text/plain": [
       "(1459, 80)"
      ]
     },
     "execution_count": 5,
     "metadata": {},
     "output_type": "execute_result"
    }
   ],
   "source": [
    "test = pd.read_csv('/kaggle/input/house-prices-advanced-regression-techniques/test.csv')\n",
    "test.shape"
   ]
  },
  {
   "cell_type": "code",
   "execution_count": 6,
   "metadata": {
    "execution": {
     "iopub.execute_input": "2020-09-15T15:22:14.704043Z",
     "iopub.status.busy": "2020-09-15T15:22:14.703252Z",
     "iopub.status.idle": "2020-09-15T15:22:14.740866Z",
     "shell.execute_reply": "2020-09-15T15:22:14.740032Z"
    },
    "papermill": {
     "duration": 0.096608,
     "end_time": "2020-09-15T15:22:14.741019",
     "exception": false,
     "start_time": "2020-09-15T15:22:14.644411",
     "status": "completed"
    },
    "tags": []
   },
   "outputs": [
    {
     "name": "stdout",
     "output_type": "stream",
     "text": [
      "<class 'pandas.core.frame.DataFrame'>\n",
      "RangeIndex: 1460 entries, 0 to 1459\n",
      "Data columns (total 81 columns):\n",
      " #   Column         Non-Null Count  Dtype  \n",
      "---  ------         --------------  -----  \n",
      " 0   Id             1460 non-null   int64  \n",
      " 1   MSSubClass     1460 non-null   int64  \n",
      " 2   MSZoning       1460 non-null   object \n",
      " 3   LotFrontage    1201 non-null   float64\n",
      " 4   LotArea        1460 non-null   int64  \n",
      " 5   Street         1460 non-null   object \n",
      " 6   Alley          91 non-null     object \n",
      " 7   LotShape       1460 non-null   object \n",
      " 8   LandContour    1460 non-null   object \n",
      " 9   Utilities      1460 non-null   object \n",
      " 10  LotConfig      1460 non-null   object \n",
      " 11  LandSlope      1460 non-null   object \n",
      " 12  Neighborhood   1460 non-null   object \n",
      " 13  Condition1     1460 non-null   object \n",
      " 14  Condition2     1460 non-null   object \n",
      " 15  BldgType       1460 non-null   object \n",
      " 16  HouseStyle     1460 non-null   object \n",
      " 17  OverallQual    1460 non-null   int64  \n",
      " 18  OverallCond    1460 non-null   int64  \n",
      " 19  YearBuilt      1460 non-null   int64  \n",
      " 20  YearRemodAdd   1460 non-null   int64  \n",
      " 21  RoofStyle      1460 non-null   object \n",
      " 22  RoofMatl       1460 non-null   object \n",
      " 23  Exterior1st    1460 non-null   object \n",
      " 24  Exterior2nd    1460 non-null   object \n",
      " 25  MasVnrType     1452 non-null   object \n",
      " 26  MasVnrArea     1452 non-null   float64\n",
      " 27  ExterQual      1460 non-null   object \n",
      " 28  ExterCond      1460 non-null   object \n",
      " 29  Foundation     1460 non-null   object \n",
      " 30  BsmtQual       1423 non-null   object \n",
      " 31  BsmtCond       1423 non-null   object \n",
      " 32  BsmtExposure   1422 non-null   object \n",
      " 33  BsmtFinType1   1423 non-null   object \n",
      " 34  BsmtFinSF1     1460 non-null   int64  \n",
      " 35  BsmtFinType2   1422 non-null   object \n",
      " 36  BsmtFinSF2     1460 non-null   int64  \n",
      " 37  BsmtUnfSF      1460 non-null   int64  \n",
      " 38  TotalBsmtSF    1460 non-null   int64  \n",
      " 39  Heating        1460 non-null   object \n",
      " 40  HeatingQC      1460 non-null   object \n",
      " 41  CentralAir     1460 non-null   object \n",
      " 42  Electrical     1459 non-null   object \n",
      " 43  1stFlrSF       1460 non-null   int64  \n",
      " 44  2ndFlrSF       1460 non-null   int64  \n",
      " 45  LowQualFinSF   1460 non-null   int64  \n",
      " 46  GrLivArea      1460 non-null   int64  \n",
      " 47  BsmtFullBath   1460 non-null   int64  \n",
      " 48  BsmtHalfBath   1460 non-null   int64  \n",
      " 49  FullBath       1460 non-null   int64  \n",
      " 50  HalfBath       1460 non-null   int64  \n",
      " 51  BedroomAbvGr   1460 non-null   int64  \n",
      " 52  KitchenAbvGr   1460 non-null   int64  \n",
      " 53  KitchenQual    1460 non-null   object \n",
      " 54  TotRmsAbvGrd   1460 non-null   int64  \n",
      " 55  Functional     1460 non-null   object \n",
      " 56  Fireplaces     1460 non-null   int64  \n",
      " 57  FireplaceQu    770 non-null    object \n",
      " 58  GarageType     1379 non-null   object \n",
      " 59  GarageYrBlt    1379 non-null   float64\n",
      " 60  GarageFinish   1379 non-null   object \n",
      " 61  GarageCars     1460 non-null   int64  \n",
      " 62  GarageArea     1460 non-null   int64  \n",
      " 63  GarageQual     1379 non-null   object \n",
      " 64  GarageCond     1379 non-null   object \n",
      " 65  PavedDrive     1460 non-null   object \n",
      " 66  WoodDeckSF     1460 non-null   int64  \n",
      " 67  OpenPorchSF    1460 non-null   int64  \n",
      " 68  EnclosedPorch  1460 non-null   int64  \n",
      " 69  3SsnPorch      1460 non-null   int64  \n",
      " 70  ScreenPorch    1460 non-null   int64  \n",
      " 71  PoolArea       1460 non-null   int64  \n",
      " 72  PoolQC         7 non-null      object \n",
      " 73  Fence          281 non-null    object \n",
      " 74  MiscFeature    54 non-null     object \n",
      " 75  MiscVal        1460 non-null   int64  \n",
      " 76  MoSold         1460 non-null   int64  \n",
      " 77  YrSold         1460 non-null   int64  \n",
      " 78  SaleType       1460 non-null   object \n",
      " 79  SaleCondition  1460 non-null   object \n",
      " 80  SalePrice      1460 non-null   int64  \n",
      "dtypes: float64(3), int64(35), object(43)\n",
      "memory usage: 924.0+ KB\n"
     ]
    }
   ],
   "source": [
    "train.info()"
   ]
  },
  {
   "cell_type": "markdown",
   "metadata": {
    "papermill": {
     "duration": 0.046401,
     "end_time": "2020-09-15T15:22:14.834542",
     "exception": false,
     "start_time": "2020-09-15T15:22:14.788141",
     "status": "completed"
    },
    "tags": []
   },
   "source": [
    "Before any further analysis can be done, we will need to deal with the categorical features, as well as the missing values. We'll just step through each feature as required, building up a preprocessing pipeline.\n",
    "\n",
    "Descriptions of the features within this dataset can be found [here](https://www.kaggle.com/c/house-prices-advanced-regression-techniques).\n",
    "\n",
    "Key points:\n",
    "* We label encode the categorical features that are actually ordered (e.g. where the categories reflect quality).\n",
    "* We weighted target encode the non-ordered categorical features.\n",
    "    * We do not label encode these features because that would imply ordering of the categories.\n",
    "    * We do not one hot encode (OHE) these features since:\n",
    "        * OHE vastly increases the dimensionality of the dataset\n",
    "        * OHE creates sparse features that virtually ensures that continuous variables are assigned higher feature importance"
   ]
  },
  {
   "cell_type": "code",
   "execution_count": 7,
   "metadata": {
    "execution": {
     "iopub.execute_input": "2020-09-15T15:22:14.979322Z",
     "iopub.status.busy": "2020-09-15T15:22:14.968421Z",
     "iopub.status.idle": "2020-09-15T15:22:15.001695Z",
     "shell.execute_reply": "2020-09-15T15:22:15.001064Z"
    },
    "papermill": {
     "duration": 0.111924,
     "end_time": "2020-09-15T15:22:15.001837",
     "exception": false,
     "start_time": "2020-09-15T15:22:14.889913",
     "status": "completed"
    },
    "tags": []
   },
   "outputs": [],
   "source": [
    "def feature_engineering(df):\n",
    "    \"\"\"\n",
    "    Clean up the features that require some specific attention.\n",
    "    \"\"\"\n",
    "    \n",
    "    # features that need imputing (use intuition to determine method for each feature)\n",
    "    df['LotFrontage'].fillna(np.nanmean(train['LotFrontage']), inplace=True)\n",
    "    df['MasVnrType'].fillna('None', inplace=True)\n",
    "    df['MasVnrArea'].fillna(np.nanmean(train['MasVnrArea']), inplace=True)\n",
    "    df['Electrical'].fillna('SBrkr', inplace=True)\n",
    "    df.loc[df['GarageYrBlt'].isna(),'GarageYrBlt'] = df[df['GarageYrBlt'].isna()]['YearBuilt']\n",
    "    df['BsmtFinSF1'].fillna(np.nanmean(train['BsmtFinSF1']), inplace=True)\n",
    "    df['BsmtFinSF2'].fillna(np.nanmean(train['BsmtFinSF2']), inplace=True)\n",
    "    df['BsmtUnfSF'].fillna(np.nanmean(train['BsmtUnfSF']), inplace=True)\n",
    "    df['TotalBsmtSF'].fillna(np.nanmean(train['TotalBsmtSF']), inplace=True)\n",
    "    df['BsmtFullBath'].fillna(train['BsmtFullBath'].mode().values[0], inplace=True)\n",
    "    df['BsmtHalfBath'].fillna(train['BsmtHalfBath'].mode().values[0], inplace=True)\n",
    "    df['GarageCars'].fillna(train['GarageCars'].mode().values[0], inplace=True)\n",
    "    df['GarageArea'].fillna(np.nanmean(train['GarageArea']), inplace=True)\n",
    "\n",
    "    # label encode ordered categorical features (e.g. where the categories reflect quality)\n",
    "    LE_features = []\n",
    "    def ordered_label_encode(col, cats):\n",
    "        \"\"\"\n",
    "        Label encode, but ordered.\n",
    "        \"\"\"\n",
    "        labels = np.arange(len(cats))\n",
    "        df.loc[:,col] = df[col].map(dict(zip(cats,labels)), na_action='ignore')\n",
    "        df.loc[df[col].isna(),col] = len(cats)+1\n",
    "        LE_features.append(col)\n",
    "\n",
    "    ordered_label_encode('LotShape', ['Reg','IR1','IR2','IR3'])\n",
    "    ordered_label_encode('Utilities', ['AllPub','NoSewr','NoSeWa','ELO'])\n",
    "    ordered_label_encode('LandSlope', ['Gtl','Mod','Sev'])\n",
    "    ordered_label_encode('ExterQual', ['Ex','Gd','TA','Fa','Po'])\n",
    "    ordered_label_encode('ExterCond', ['Ex','Gd','TA','Fa','Po'])\n",
    "    ordered_label_encode('BsmtQual', ['Ex','Gd','TA','Fa','Po'])\n",
    "    ordered_label_encode('BsmtCond', ['Ex','Gd','TA','Fa','Po'])\n",
    "    ordered_label_encode('BsmtExposure', ['Gd','Av','Mn','No'])\n",
    "    ordered_label_encode('BsmtFinType1', ['GLQ','ALQ','BLQ','Rec','LwQ','Unf'])\n",
    "    ordered_label_encode('BsmtFinType2', ['GLQ','ALQ','BLQ','Rec','LwQ','Unf'])\n",
    "    ordered_label_encode('HeatingQC', ['Ex','Gd','TA','Fa','Po'])\n",
    "    ordered_label_encode('CentralAir', ['Y','N'])\n",
    "    ordered_label_encode('KitchenQual', ['Ex','Gd','TA','Fa','Po'])\n",
    "    ordered_label_encode('Functional', ['Typ','Min1','Min2','Mod','Maj1','Maj2','Sev','Sal'])\n",
    "    ordered_label_encode('FireplaceQu', ['Ex','Gd','TA','Fa','Po'])\n",
    "    ordered_label_encode('GarageFinish', ['Fin','RFn','Unf'])\n",
    "    ordered_label_encode('GarageQual', ['Ex','Gd','TA','Fa','Po'])\n",
    "    ordered_label_encode('GarageCond', ['Ex','Gd','TA','Fa','Po'])\n",
    "    ordered_label_encode('PavedDrive', ['Y','P','N'])\n",
    "    ordered_label_encode('PoolQC', ['Ex','Gd','TA','Fa'])\n",
    "    ordered_label_encode('Fence', ['GdPrv','MnPrv','GdWo','MnWw'])\n",
    "    \n",
    "    # target encode the other categorical features\n",
    "    def target_encode(col, weight=None):\n",
    "        total_mean = np.mean(train_y)\n",
    "        cats = df[col].unique()\n",
    "        if weight==None:\n",
    "            weight = int((len(train)/len(cats))/2)\n",
    "        for cat in cats:\n",
    "            if pd.isnull(cat):\n",
    "                if len(train[train[col].isna()])==0:\n",
    "                    df[col].fillna(total_mean, inplace=True)\n",
    "                else:\n",
    "                    cat_mean = np.mean(train_y[train[col].isna()])\n",
    "                    count = len(df[df[col].isna()])\n",
    "                    df.loc[df[col].isna(), col] = (count*cat_mean + weight*total_mean)/(count+weight)\n",
    "            else:\n",
    "                if len(train[train[col]==cat])==0:\n",
    "                    df.loc[df[col]==cat, col] = total_mean\n",
    "                else:\n",
    "                    cat_mean = np.mean(train_y[train[col]==cat])\n",
    "                    count = len(df[df[col]==cat])\n",
    "                    df.loc[df[col]==cat, col] = (count*cat_mean + weight*total_mean)/(count+weight)\n",
    "        \n",
    "    TE_features = ['MSZoning','Street','Alley','LandContour','LotConfig','Neighborhood','BldgType','HouseStyle',\n",
    "                   'RoofStyle','RoofMatl','MasVnrType','Foundation','Heating','Electrical','GarageType','MiscFeature',\n",
    "                   'SaleType','SaleCondition','Condition1','Condition2','Exterior1st','Exterior2nd']\n",
    "    for col in TE_features:\n",
    "        target_encode(col)\n",
    "        \n",
    "    # numerical features\n",
    "    num_features = ['LotFrontage','LotArea','OverallQual','OverallCond','YearBuilt','YearRemodAdd','MasVnrArea',\n",
    "                    'BsmtFinSF1','BsmtFinSF2','BsmtUnfSF','TotalBsmtSF','1stFlrSF','2ndFlrSF','LowQualFinSF',\n",
    "                    'GrLivArea','BsmtFullBath','BsmtHalfBath','FullBath','HalfBath','BedroomAbvGr','KitchenAbvGr',\n",
    "                    'TotRmsAbvGrd','Fireplaces','GarageYrBlt','GarageCars','GarageArea','WoodDeckSF','OpenPorchSF',\n",
    "                    'EnclosedPorch','3SsnPorch','ScreenPorch','PoolArea','MiscVal','MoSold','YrSold']\n",
    "    \n",
    "    # features to ignore\n",
    "    ignore_features = ['MSSubClass']\n",
    "    \n",
    "    df.drop(columns=ignore_features, inplace=True)\n",
    "        \n",
    "    # total area\n",
    "    num_features.append('TotalSF')\n",
    "    df['TotalSF'] = df['TotalBsmtSF'] + df['1stFlrSF'] + df['2ndFlrSF']\n",
    "    \n",
    "    return df, LE_features, TE_features, num_features, ignore_features"
   ]
  },
  {
   "cell_type": "markdown",
   "metadata": {
    "papermill": {
     "duration": 0.046297,
     "end_time": "2020-09-15T15:22:15.095167",
     "exception": false,
     "start_time": "2020-09-15T15:22:15.048870",
     "status": "completed"
    },
    "tags": []
   },
   "source": [
    "Bring train and test together temporarily so that the one-hot encoding captures all present categories."
   ]
  },
  {
   "cell_type": "code",
   "execution_count": 8,
   "metadata": {
    "execution": {
     "iopub.execute_input": "2020-09-15T15:22:15.203019Z",
     "iopub.status.busy": "2020-09-15T15:22:15.202186Z",
     "iopub.status.idle": "2020-09-15T15:22:15.231917Z",
     "shell.execute_reply": "2020-09-15T15:22:15.231054Z"
    },
    "papermill": {
     "duration": 0.089935,
     "end_time": "2020-09-15T15:22:15.232062",
     "exception": false,
     "start_time": "2020-09-15T15:22:15.142127",
     "status": "completed"
    },
    "tags": []
   },
   "outputs": [],
   "source": [
    "train_y = train['SalePrice']\n",
    "\n",
    "train.drop(columns='SalePrice', inplace=True)\n",
    "\n",
    "train['set'] = 'train'\n",
    "test['set'] = 'test'\n",
    "\n",
    "train_test = pd.concat([train,test])"
   ]
  },
  {
   "cell_type": "markdown",
   "metadata": {
    "papermill": {
     "duration": 0.047817,
     "end_time": "2020-09-15T15:22:15.327426",
     "exception": false,
     "start_time": "2020-09-15T15:22:15.279609",
     "status": "completed"
    },
    "tags": []
   },
   "source": [
    "Pre-process, then move the splits apart again."
   ]
  },
  {
   "cell_type": "code",
   "execution_count": 9,
   "metadata": {
    "execution": {
     "iopub.execute_input": "2020-09-15T15:22:15.430992Z",
     "iopub.status.busy": "2020-09-15T15:22:15.429970Z",
     "iopub.status.idle": "2020-09-15T15:22:16.622601Z",
     "shell.execute_reply": "2020-09-15T15:22:16.623268Z"
    },
    "papermill": {
     "duration": 1.24898,
     "end_time": "2020-09-15T15:22:16.623437",
     "exception": false,
     "start_time": "2020-09-15T15:22:15.374457",
     "status": "completed"
    },
    "tags": []
   },
   "outputs": [],
   "source": [
    "# pre-process\n",
    "train_test, LE_features, TE_features, num_features, ignore_features = feature_engineering(train_test)\n",
    "\n",
    "# split\n",
    "train = train_test[train_test['set']=='train']\n",
    "test = train_test[train_test['set']=='test']\n",
    "\n",
    "# remove ID column\n",
    "train_Id = train['Id'].copy()\n",
    "test_Id = test['Id'].copy()\n",
    "\n",
    "train.drop(columns=['set','Id'], inplace=True)\n",
    "test.drop(columns=['set','Id'], inplace=True)"
   ]
  },
  {
   "cell_type": "markdown",
   "metadata": {
    "papermill": {
     "duration": 0.047568,
     "end_time": "2020-09-15T15:22:16.719209",
     "exception": false,
     "start_time": "2020-09-15T15:22:16.671641",
     "status": "completed"
    },
    "tags": []
   },
   "source": [
    "Check column consistency."
   ]
  },
  {
   "cell_type": "code",
   "execution_count": 10,
   "metadata": {
    "execution": {
     "iopub.execute_input": "2020-09-15T15:22:16.828481Z",
     "iopub.status.busy": "2020-09-15T15:22:16.827450Z",
     "iopub.status.idle": "2020-09-15T15:22:16.831151Z",
     "shell.execute_reply": "2020-09-15T15:22:16.831714Z"
    },
    "papermill": {
     "duration": 0.065094,
     "end_time": "2020-09-15T15:22:16.831871",
     "exception": false,
     "start_time": "2020-09-15T15:22:16.766777",
     "status": "completed"
    },
    "tags": []
   },
   "outputs": [
    {
     "name": "stdout",
     "output_type": "stream",
     "text": [
      "No mismatches.\n"
     ]
    }
   ],
   "source": [
    "no_mismatch = True\n",
    "for i in range(len(train.columns)):\n",
    "    if train.columns[i]!=test.columns[i]:\n",
    "        print('train/test mismatch : {}'.format(train.columns[i]))\n",
    "        no_mismatch = False\n",
    "if no_mismatch:\n",
    "    print('No mismatches.')"
   ]
  },
  {
   "cell_type": "markdown",
   "metadata": {
    "papermill": {
     "duration": 0.047565,
     "end_time": "2020-09-15T15:22:16.928315",
     "exception": false,
     "start_time": "2020-09-15T15:22:16.880750",
     "status": "completed"
    },
    "tags": []
   },
   "source": [
    "Check NaNs."
   ]
  },
  {
   "cell_type": "code",
   "execution_count": 11,
   "metadata": {
    "execution": {
     "iopub.execute_input": "2020-09-15T15:22:17.086094Z",
     "iopub.status.busy": "2020-09-15T15:22:17.076414Z",
     "iopub.status.idle": "2020-09-15T15:22:17.090568Z",
     "shell.execute_reply": "2020-09-15T15:22:17.089947Z"
    },
    "papermill": {
     "duration": 0.114264,
     "end_time": "2020-09-15T15:22:17.090691",
     "exception": false,
     "start_time": "2020-09-15T15:22:16.976427",
     "status": "completed"
    },
    "tags": []
   },
   "outputs": [
    {
     "name": "stdout",
     "output_type": "stream",
     "text": [
      "No NaNs.\n"
     ]
    }
   ],
   "source": [
    "no_nan = True\n",
    "for col in test.columns:\n",
    "    if train[col].isna().sum() > 0:\n",
    "        print('train : {} : {}'.format(col, train[col].isna().sum()))\n",
    "        no_nan = False\n",
    "    if test[col].isna().sum() > 0:\n",
    "        print('test : {} : {}'.format(col, test[col].isna().sum()))\n",
    "        no_nan = False\n",
    "if no_nan:\n",
    "    print('No NaNs.')"
   ]
  },
  {
   "cell_type": "markdown",
   "metadata": {
    "papermill": {
     "duration": 0.047998,
     "end_time": "2020-09-15T15:22:17.187995",
     "exception": false,
     "start_time": "2020-09-15T15:22:17.139997",
     "status": "completed"
    },
    "tags": []
   },
   "source": [
    "Note that normalization is not necessary, since all algorithms that we will be using are based on decision trees, which are non-parametric."
   ]
  },
  {
   "cell_type": "markdown",
   "metadata": {
    "papermill": {
     "duration": 0.047788,
     "end_time": "2020-09-15T15:22:17.284105",
     "exception": false,
     "start_time": "2020-09-15T15:22:17.236317",
     "status": "completed"
    },
    "tags": []
   },
   "source": [
    "## Further Feature Engineering"
   ]
  },
  {
   "cell_type": "markdown",
   "metadata": {
    "papermill": {
     "duration": 0.047958,
     "end_time": "2020-09-15T15:22:17.380562",
     "exception": false,
     "start_time": "2020-09-15T15:22:17.332604",
     "status": "completed"
    },
    "tags": []
   },
   "source": [
    "Spearman correlation:"
   ]
  },
  {
   "cell_type": "code",
   "execution_count": 12,
   "metadata": {
    "execution": {
     "iopub.execute_input": "2020-09-15T15:22:17.486221Z",
     "iopub.status.busy": "2020-09-15T15:22:17.485432Z",
     "iopub.status.idle": "2020-09-15T15:22:17.935833Z",
     "shell.execute_reply": "2020-09-15T15:22:17.935206Z"
    },
    "papermill": {
     "duration": 0.507162,
     "end_time": "2020-09-15T15:22:17.935996",
     "exception": false,
     "start_time": "2020-09-15T15:22:17.428834",
     "status": "completed"
    },
    "tags": []
   },
   "outputs": [
    {
     "data": {
      "image/png": "[encoded data removed]",
      "text/plain": [
       "<Figure size 1080x216 with 1 Axes>"
      ]
     },
     "metadata": {
      "needs_background": "light"
     },
     "output_type": "display_data"
    }
   ],
   "source": [
    "spearman = train.corrwith(train_y, method='spearman')\n",
    "spearman.sort_values(inplace=True)\n",
    "\n",
    "fig, ax = plt.subplots(figsize=(15,3))\n",
    "x_vals = np.arange(len(spearman))\n",
    "ax.bar(x_vals, spearman)\n",
    "ax.set_ylim(-1,1)\n",
    "ax.yaxis.grid(ls='--')\n",
    "plt.show(fig)"
   ]
  },
  {
   "cell_type": "code",
   "execution_count": 13,
   "metadata": {
    "execution": {
     "iopub.execute_input": "2020-09-15T15:22:18.046907Z",
     "iopub.status.busy": "2020-09-15T15:22:18.045915Z",
     "iopub.status.idle": "2020-09-15T15:22:18.050826Z",
     "shell.execute_reply": "2020-09-15T15:22:18.051733Z"
    },
    "papermill": {
     "duration": 0.065703,
     "end_time": "2020-09-15T15:22:18.051979",
     "exception": false,
     "start_time": "2020-09-15T15:22:17.986276",
     "status": "completed"
    },
    "tags": []
   },
   "outputs": [
    {
     "name": "stdout",
     "output_type": "stream",
     "text": [
      "TotalSF : 0.820\n",
      "OverallQual : 0.810\n",
      "GrLivArea : 0.731\n",
      "GarageCars : 0.691\n",
      "ExterQual : 0.684\n",
      "BsmtQual : 0.678\n",
      "KitchenQual : 0.673\n",
      "YearBuilt : 0.653\n",
      "GarageArea : 0.649\n",
      "FullBath : 0.636\n",
      "GarageFinish : 0.634\n",
      "GarageYrBlt : 0.613\n",
      "TotalBsmtSF : 0.603\n",
      "1stFlrSF : 0.575\n",
      "YearRemodAdd : 0.571\n",
      "FireplaceQu : 0.538\n",
      "TotRmsAbvGrd : 0.533\n",
      "Fireplaces : 0.519\n",
      "HeatingQC : 0.491\n",
      "OpenPorchSF : 0.478\n"
     ]
    }
   ],
   "source": [
    "spearman_abs = spearman.abs()\n",
    "spearman_abs.sort_values(inplace=True, ascending=False)\n",
    "for i in range(20):\n",
    "    print('{} : {:.3f}'.format(spearman_abs.index[i], spearman_abs[i]))"
   ]
  },
  {
   "cell_type": "code",
   "execution_count": 14,
   "metadata": {
    "execution": {
     "iopub.execute_input": "2020-09-15T15:22:18.163015Z",
     "iopub.status.busy": "2020-09-15T15:22:18.161118Z",
     "iopub.status.idle": "2020-09-15T15:22:20.233212Z",
     "shell.execute_reply": "2020-09-15T15:22:20.233805Z"
    },
    "papermill": {
     "duration": 2.131946,
     "end_time": "2020-09-15T15:22:20.233991",
     "exception": false,
     "start_time": "2020-09-15T15:22:18.102045",
     "status": "completed"
    },
    "tags": []
   },
   "outputs": [
    {
     "data": {
      "image/png": "[encoded data removed]",
      "text/plain": [
       "<Figure size 720x1080 with 10 Axes>"
      ]
     },
     "metadata": {
      "needs_background": "light"
     },
     "output_type": "display_data"
    }
   ],
   "source": [
    "fig, ax = plt.subplots(nrows=5, ncols=2, figsize=(10,15), sharey=True)\n",
    "\n",
    "ax = ax.flatten()\n",
    "\n",
    "for i in range(10):\n",
    "    ax[i].scatter(train[spearman_abs.index[i]], train_y, s=5)\n",
    "    ax[i].set_title(spearman_abs.index[i])\n",
    "    ax[i].grid(ls='--')\n",
    "    \n",
    "fig.tight_layout()\n",
    "plt.show(fig)"
   ]
  },
  {
   "cell_type": "markdown",
   "metadata": {
    "papermill": {
     "duration": 0.054935,
     "end_time": "2020-09-15T15:22:20.343678",
     "exception": false,
     "start_time": "2020-09-15T15:22:20.288743",
     "status": "completed"
    },
    "tags": []
   },
   "source": [
    "Based on these scatter plots we can identify a few outliers - we'll get rid of them:"
   ]
  },
  {
   "cell_type": "code",
   "execution_count": 15,
   "metadata": {
    "execution": {
     "iopub.execute_input": "2020-09-15T15:22:20.478432Z",
     "iopub.status.busy": "2020-09-15T15:22:20.473429Z",
     "iopub.status.idle": "2020-09-15T15:22:20.513187Z",
     "shell.execute_reply": "2020-09-15T15:22:20.512285Z"
    },
    "papermill": {
     "duration": 0.114382,
     "end_time": "2020-09-15T15:22:20.513356",
     "exception": false,
     "start_time": "2020-09-15T15:22:20.398974",
     "status": "completed"
    },
    "tags": []
   },
   "outputs": [
    {
     "name": "stdout",
     "output_type": "stream",
     "text": [
      "n outliers = 2\n"
     ]
    }
   ],
   "source": [
    "outliers = []\n",
    "for i in range(len(train)):\n",
    "    if train['TotalSF'][i]>7500:\n",
    "        outliers.append(i)\n",
    "\n",
    "train.drop(outliers, axis=0, inplace=True)\n",
    "train_y.drop(outliers, axis=0, inplace=True)\n",
    "train_Id.drop(outliers, axis=0, inplace=True)\n",
    "\n",
    "print('n outliers = {}'.format(len(outliers)))"
   ]
  },
  {
   "cell_type": "markdown",
   "metadata": {
    "papermill": {
     "duration": 0.055091,
     "end_time": "2020-09-15T15:22:20.624312",
     "exception": false,
     "start_time": "2020-09-15T15:22:20.569221",
     "status": "completed"
    },
    "tags": []
   },
   "source": [
    "## Models\n",
    "\n",
    "Let's try three variants of gradient boosted trees: a vanilla gradient boosting regressor, light gradient boosting (light GBM), and extreme gradient boosting (XGB).\n",
    "\n",
    "We will also try a meta-learner, which uses the predictions of the three models above as additional training features.\n",
    "\n",
    "For each model, we will tune the hyperparameters using a Bayesian hyperparameter optimization method - this method should converge on the optimal hyperparameters much faster than the more basic random/grid search approaches, which should allow us to more effectively use our computation time to fine tune the hyperparameters."
   ]
  },
  {
   "cell_type": "code",
   "execution_count": 16,
   "metadata": {
    "execution": {
     "iopub.execute_input": "2020-09-15T15:22:20.742503Z",
     "iopub.status.busy": "2020-09-15T15:22:20.741600Z",
     "iopub.status.idle": "2020-09-15T15:22:20.746467Z",
     "shell.execute_reply": "2020-09-15T15:22:20.745821Z"
    },
    "papermill": {
     "duration": 0.066885,
     "end_time": "2020-09-15T15:22:20.746593",
     "exception": false,
     "start_time": "2020-09-15T15:22:20.679708",
     "status": "completed"
    },
    "tags": []
   },
   "outputs": [
    {
     "data": {
      "text/plain": [
       "(1458, 79)"
      ]
     },
     "execution_count": 16,
     "metadata": {},
     "output_type": "execute_result"
    }
   ],
   "source": [
    "n_features = train.shape[1]\n",
    "train.shape"
   ]
  },
  {
   "cell_type": "markdown",
   "metadata": {
    "papermill": {
     "duration": 0.055607,
     "end_time": "2020-09-15T15:22:20.858264",
     "exception": false,
     "start_time": "2020-09-15T15:22:20.802657",
     "status": "completed"
    },
    "tags": []
   },
   "source": [
    "Scorer:"
   ]
  },
  {
   "cell_type": "code",
   "execution_count": 17,
   "metadata": {
    "execution": {
     "iopub.execute_input": "2020-09-15T15:22:20.982358Z",
     "iopub.status.busy": "2020-09-15T15:22:20.981513Z",
     "iopub.status.idle": "2020-09-15T15:22:20.985211Z",
     "shell.execute_reply": "2020-09-15T15:22:20.985781Z"
    },
    "papermill": {
     "duration": 0.070821,
     "end_time": "2020-09-15T15:22:20.985978",
     "exception": false,
     "start_time": "2020-09-15T15:22:20.915157",
     "status": "completed"
    },
    "tags": []
   },
   "outputs": [],
   "source": [
    "# define a scorer - in this case RMSE of logs\n",
    "def get_RMSE(Y, Y_prediction):\n",
    "    \n",
    "    Y_prediction_positive = Y_prediction\n",
    "    \n",
    "    # in rare instances, some models will predict negative values - so force predictions to be positive\n",
    "    Y_prediction_positive[Y_prediction<=0] = 1\n",
    "    \n",
    "    RMSE = np.sqrt(mean_squared_error(np.log(Y), np.log(Y_prediction_positive)))\n",
    "    return RMSE\n",
    "\n",
    "# initialize the scorer\n",
    "scorer = make_scorer(get_RMSE, greater_is_better=False)\n",
    "\n",
    "# score a model on the training data using cross validation\n",
    "kfolds = KFold(n_splits=5, shuffle=True, random_state=1992)\n",
    "def CV_RMSE(model, x, y):\n",
    "    RMSE = -cross_val_score(model, x, y, scoring=scorer, cv=kfolds)\n",
    "    return RMSE"
   ]
  },
  {
   "cell_type": "markdown",
   "metadata": {
    "papermill": {
     "duration": 0.056563,
     "end_time": "2020-09-15T15:22:21.098700",
     "exception": false,
     "start_time": "2020-09-15T15:22:21.042137",
     "status": "completed"
    },
    "tags": []
   },
   "source": [
    "A function to evaluate whether the hyperparameter tuning is:\n",
    "* exploring an appropriate hyperparameter space\n",
    "* has converged on a hyperparameter set\n",
    "\n",
    "**NOTE:** in the committed version of this notebook, the code cells that performed the hyperparameter tuning are commented out, since they are computationally expensive. However, they were run as is to obtain the hyperparameters that are used to make the final predictions."
   ]
  },
  {
   "cell_type": "code",
   "execution_count": 18,
   "metadata": {
    "execution": {
     "iopub.execute_input": "2020-09-15T15:22:21.240413Z",
     "iopub.status.busy": "2020-09-15T15:22:21.225965Z",
     "iopub.status.idle": "2020-09-15T15:22:21.244101Z",
     "shell.execute_reply": "2020-09-15T15:22:21.243308Z"
    },
    "papermill": {
     "duration": 0.089032,
     "end_time": "2020-09-15T15:22:21.244242",
     "exception": false,
     "start_time": "2020-09-15T15:22:21.155210",
     "status": "completed"
    },
    "tags": []
   },
   "outputs": [],
   "source": [
    "def hyperopt_plot(trials, param_names, param_q, param_log):\n",
    "    \n",
    "    trials_summary = pd.DataFrame()\n",
    "    \n",
    "    i = 0\n",
    "    for trial in trials.trials:\n",
    "        trials_summary.loc[i,'loss'] = trial['result']['loss']\n",
    "        i = i+1\n",
    "        \n",
    "    for param in param_names:\n",
    "        i = 0\n",
    "        for trial in trials.trials:\n",
    "            trials_summary.loc[i,param] = trial['misc']['vals'][param][0]\n",
    "            i = i+1\n",
    "            \n",
    "    fig, ax = plt.subplots(nrows=len(param_names)+1, ncols=2, figsize=(10,18))\n",
    "    \n",
    "    for i in range(len(param_names)):\n",
    "        \n",
    "        if param_q[i] == False:\n",
    "            if param_log[i] == False:\n",
    "                ax[i][0].hist(trials_summary[param_names[i]])\n",
    "            else:\n",
    "                hist, bins = np.histogram(trials_summary[param_names[i]])\n",
    "                logbins = np.logspace(np.log10(bins[0]),np.log10(bins[-1]),len(bins))\n",
    "                ax[i][0].hist(trials_summary[param_names[i]], bins=logbins)\n",
    "                ax[i][0].set_xscale('log')\n",
    "        else:\n",
    "            sorted_df = trials_summary.sort_values(by=param_names[i])\n",
    "            unique_vals = sorted_df[param_names[i]].unique()\n",
    "            unique_vals_ind = np.arange(len(unique_vals))\n",
    "            unique_vals_count = sorted_df[param_names[i]].value_counts(sort=False)\n",
    "            ax[i][0].bar(unique_vals_ind, unique_vals_count)\n",
    "            ax[i][0].set_xticks(unique_vals_ind)\n",
    "            ax[i][0].set_xticklabels(unique_vals)\n",
    "            \n",
    "        ax[i][1].scatter(trials_summary[param_names[i]], trials_summary['loss'])\n",
    "        if param_log[i] == True:\n",
    "            ax[i][1].set_xscale('log')\n",
    "            \n",
    "        ax[i][0].set_ylabel(param_names[i])\n",
    "        ax[i][1].yaxis.grid(ls='--',c='C7')\n",
    "        \n",
    "    ax[len(param_names)][0].scatter(np.arange(len(trials_summary)), trials_summary['loss'], c='C1')\n",
    "    ax[len(param_names)][0].set_ylabel('loss')\n",
    "    ax[len(param_names)][0].set_xlabel('iteration')\n",
    "    ax[len(param_names)][0].yaxis.grid(ls='--',c='C7')\n",
    "            \n",
    "    fig.tight_layout()\n",
    "    plt.show()\n",
    "    \n",
    "    return trials_summary"
   ]
  },
  {
   "cell_type": "markdown",
   "metadata": {
    "papermill": {
     "duration": 0.056329,
     "end_time": "2020-09-15T15:22:21.357154",
     "exception": false,
     "start_time": "2020-09-15T15:22:21.300825",
     "status": "completed"
    },
    "tags": []
   },
   "source": [
    "### Gradient Boosting"
   ]
  },
  {
   "cell_type": "code",
   "execution_count": 19,
   "metadata": {
    "execution": {
     "iopub.execute_input": "2020-09-15T15:22:21.480053Z",
     "iopub.status.busy": "2020-09-15T15:22:21.478951Z",
     "iopub.status.idle": "2020-09-15T15:22:21.482611Z",
     "shell.execute_reply": "2020-09-15T15:22:21.481839Z"
    },
    "papermill": {
     "duration": 0.068595,
     "end_time": "2020-09-15T15:22:21.482737",
     "exception": false,
     "start_time": "2020-09-15T15:22:21.414142",
     "status": "completed"
    },
    "tags": []
   },
   "outputs": [],
   "source": [
    "#def GBR_fn(params):\n",
    "#    \n",
    "#    params = {'learning_rate' : params['learning_rate'], \n",
    "#              'min_samples_leaf' : int(params['min_samples_leaf']),\n",
    "#              'max_depth' : int(params['max_depth']),\n",
    "#              'max_features' : int(params['max_features']),\n",
    "#              'n_estimators' : int(params['n_estimators'])}\n",
    "#    \n",
    "#    model = GradientBoostingRegressor(random_state=2020, loss='huber', **params)\n",
    "#    \n",
    "#    score = np.mean(CV_RMSE(model, train.values, train_y.values))\n",
    "#\n",
    "#    return score"
   ]
  },
  {
   "cell_type": "code",
   "execution_count": 20,
   "metadata": {
    "execution": {
     "iopub.execute_input": "2020-09-15T15:22:21.602898Z",
     "iopub.status.busy": "2020-09-15T15:22:21.601755Z",
     "iopub.status.idle": "2020-09-15T15:22:21.605421Z",
     "shell.execute_reply": "2020-09-15T15:22:21.604658Z"
    },
    "papermill": {
     "duration": 0.06553,
     "end_time": "2020-09-15T15:22:21.605545",
     "exception": false,
     "start_time": "2020-09-15T15:22:21.540015",
     "status": "completed"
    },
    "tags": []
   },
   "outputs": [],
   "source": [
    "#hp_space = {'learning_rate' : hp.loguniform('learning_rate', low=np.log(0.005), high=np.log(0.1)), \n",
    "#            'min_samples_leaf' : hp.quniform('min_samples_leaf', low=1, high=5, q=1),\n",
    "#            'max_depth' : hp.quniform('max_depth', low=2, high=5, q=1),\n",
    "#            'max_features' : hp.quniform('max_features', low=2, high=20, q=2),\n",
    "#            'n_estimators' : hp.quniform('n_estimators', low=3000, high=5000, q=250)}\n",
    "#\n",
    "#GBR_trials = Trials()\n",
    "#best_GBR_params = fmin(fn=GBR_fn, space=hp_space, algo=tpe.suggest, max_evals=25*5,\n",
    "#                       trials=GBR_trials, rstate=np.random.RandomState(1992))"
   ]
  },
  {
   "cell_type": "code",
   "execution_count": 21,
   "metadata": {
    "execution": {
     "iopub.execute_input": "2020-09-15T15:22:21.726391Z",
     "iopub.status.busy": "2020-09-15T15:22:21.725452Z",
     "iopub.status.idle": "2020-09-15T15:22:21.729192Z",
     "shell.execute_reply": "2020-09-15T15:22:21.728497Z"
    },
    "papermill": {
     "duration": 0.066687,
     "end_time": "2020-09-15T15:22:21.729341",
     "exception": false,
     "start_time": "2020-09-15T15:22:21.662654",
     "status": "completed"
    },
    "tags": []
   },
   "outputs": [],
   "source": [
    "#GBR_trials_summary = hyperopt_plot(GBR_trials,\n",
    "#                                   ['learning_rate','min_samples_leaf','max_depth','max_features','n_estimators'],\n",
    "#                                   [False          ,True              ,True       ,True          ,True],\n",
    "#                                   [True           ,False             ,False      ,False         ,False])"
   ]
  },
  {
   "cell_type": "code",
   "execution_count": 22,
   "metadata": {
    "execution": {
     "iopub.execute_input": "2020-09-15T15:22:21.852829Z",
     "iopub.status.busy": "2020-09-15T15:22:21.852012Z",
     "iopub.status.idle": "2020-09-15T15:22:21.855597Z",
     "shell.execute_reply": "2020-09-15T15:22:21.854782Z"
    },
    "papermill": {
     "duration": 0.066259,
     "end_time": "2020-09-15T15:22:21.855724",
     "exception": false,
     "start_time": "2020-09-15T15:22:21.789465",
     "status": "completed"
    },
    "tags": []
   },
   "outputs": [],
   "source": [
    "#best_GBR_params"
   ]
  },
  {
   "cell_type": "code",
   "execution_count": 23,
   "metadata": {
    "execution": {
     "iopub.execute_input": "2020-09-15T15:22:21.982899Z",
     "iopub.status.busy": "2020-09-15T15:22:21.981984Z",
     "iopub.status.idle": "2020-09-15T15:22:21.985860Z",
     "shell.execute_reply": "2020-09-15T15:22:21.985096Z"
    },
    "papermill": {
     "duration": 0.069677,
     "end_time": "2020-09-15T15:22:21.986011",
     "exception": false,
     "start_time": "2020-09-15T15:22:21.916334",
     "status": "completed"
    },
    "tags": []
   },
   "outputs": [],
   "source": [
    "# this is the best GBR found using hyperopt\n",
    "# commit version 15\n",
    "best_GBR = GradientBoostingRegressor(random_state=2020, loss='huber',\n",
    "                                     learning_rate=0.013427541181495601,\n",
    "                                     min_samples_leaf=3,\n",
    "                                     max_depth=3,\n",
    "                                     max_features=12,\n",
    "                                     n_estimators=3250)"
   ]
  },
  {
   "cell_type": "code",
   "execution_count": 24,
   "metadata": {
    "execution": {
     "iopub.execute_input": "2020-09-15T15:22:22.116707Z",
     "iopub.status.busy": "2020-09-15T15:22:22.111031Z",
     "iopub.status.idle": "2020-09-15T15:23:16.732903Z",
     "shell.execute_reply": "2020-09-15T15:23:16.733597Z"
    },
    "papermill": {
     "duration": 54.68753,
     "end_time": "2020-09-15T15:23:16.733773",
     "exception": false,
     "start_time": "2020-09-15T15:22:22.046243",
     "status": "completed"
    },
    "tags": []
   },
   "outputs": [
    {
     "name": "stdout",
     "output_type": "stream",
     "text": [
      "GBR     : 0.1118\n"
     ]
    }
   ],
   "source": [
    "score = CV_RMSE(best_GBR, train.values, train_y.values)\n",
    "print('GBR     : {:.4f}'.format(score.mean()))"
   ]
  },
  {
   "cell_type": "markdown",
   "metadata": {
    "papermill": {
     "duration": 0.058579,
     "end_time": "2020-09-15T15:23:16.851978",
     "exception": false,
     "start_time": "2020-09-15T15:23:16.793399",
     "status": "completed"
    },
    "tags": []
   },
   "source": [
    "### Light GBM"
   ]
  },
  {
   "cell_type": "code",
   "execution_count": 25,
   "metadata": {
    "execution": {
     "iopub.execute_input": "2020-09-15T15:23:16.976789Z",
     "iopub.status.busy": "2020-09-15T15:23:16.975698Z",
     "iopub.status.idle": "2020-09-15T15:23:16.978108Z",
     "shell.execute_reply": "2020-09-15T15:23:16.978696Z"
    },
    "papermill": {
     "duration": 0.067544,
     "end_time": "2020-09-15T15:23:16.978859",
     "exception": false,
     "start_time": "2020-09-15T15:23:16.911315",
     "status": "completed"
    },
    "tags": []
   },
   "outputs": [],
   "source": [
    "#def LGBM_fn(params):\n",
    "#    \n",
    "#    params = {'learning_rate' : params['learning_rate'],\n",
    "#              'n_estimators' : int(params['n_estimators']),\n",
    "#              'min_data_in_leaf' : int(params['min_data_in_leaf']),\n",
    "#              'num_leaves' : int(params['num_leaves']),\n",
    "#              'max_bin' : int(params['max_bin']),\n",
    "#              'bagging_fraction' : params['bagging_fraction']}\n",
    "#    \n",
    "#    model = LGBMRegressor(random_state=2020, objective='regression', bagging_freq=5, **params)\n",
    "#    \n",
    "#    score = np.mean(CV_RMSE(model, train.values, train_y.values))\n",
    "#\n",
    "#    return score"
   ]
  },
  {
   "cell_type": "code",
   "execution_count": 26,
   "metadata": {
    "execution": {
     "iopub.execute_input": "2020-09-15T15:23:17.101772Z",
     "iopub.status.busy": "2020-09-15T15:23:17.100998Z",
     "iopub.status.idle": "2020-09-15T15:23:17.104043Z",
     "shell.execute_reply": "2020-09-15T15:23:17.103456Z"
    },
    "papermill": {
     "duration": 0.066137,
     "end_time": "2020-09-15T15:23:17.104177",
     "exception": false,
     "start_time": "2020-09-15T15:23:17.038040",
     "status": "completed"
    },
    "tags": []
   },
   "outputs": [],
   "source": [
    "#hp_space = {'learning_rate' : hp.loguniform('learning_rate', low=np.log(0.001), high=np.log(0.01)), \n",
    "#            'n_estimators' : hp.quniform('n_estimators', low=3000, high=5000, q=250),\n",
    "#            'min_data_in_leaf' : hp.quniform('min_data_in_leaf', low=1, high=10, q=1),\n",
    "#            'num_leaves' : hp.quniform('num_leaves', low=6, high=20, q=2),\n",
    "#            'max_bin' : hp.quniform('max_bin', low=100, high=300, q=20),\n",
    "#            'bagging_fraction' : hp.uniform('bagging_fraction', low=0.01, high=0.4)}\n",
    "#\n",
    "#LGBM_trials = Trials()\n",
    "#best_LGBM_params = fmin(fn=LGBM_fn, space=hp_space, algo=tpe.suggest, max_evals=25*7,\n",
    "#                        trials=LGBM_trials, rstate=np.random.RandomState(1992))"
   ]
  },
  {
   "cell_type": "code",
   "execution_count": 27,
   "metadata": {
    "execution": {
     "iopub.execute_input": "2020-09-15T15:23:17.226262Z",
     "iopub.status.busy": "2020-09-15T15:23:17.225432Z",
     "iopub.status.idle": "2020-09-15T15:23:17.228974Z",
     "shell.execute_reply": "2020-09-15T15:23:17.228368Z"
    },
    "papermill": {
     "duration": 0.066395,
     "end_time": "2020-09-15T15:23:17.229119",
     "exception": false,
     "start_time": "2020-09-15T15:23:17.162724",
     "status": "completed"
    },
    "tags": []
   },
   "outputs": [],
   "source": [
    "#LGBM_trials_summary = hyperopt_plot(LGBM_trials,\n",
    "#                                    ['learning_rate','n_estimators','min_data_in_leaf','num_leaves','max_bin','bagging_fraction'],\n",
    "#                                    [False          ,True          ,True              ,True        ,True     ,False             ],\n",
    "#                                    [True           ,False         ,False             ,False       ,False    ,False             ])"
   ]
  },
  {
   "cell_type": "code",
   "execution_count": 28,
   "metadata": {
    "execution": {
     "iopub.execute_input": "2020-09-15T15:23:17.351226Z",
     "iopub.status.busy": "2020-09-15T15:23:17.350406Z",
     "iopub.status.idle": "2020-09-15T15:23:17.353815Z",
     "shell.execute_reply": "2020-09-15T15:23:17.353192Z"
    },
    "papermill": {
     "duration": 0.066328,
     "end_time": "2020-09-15T15:23:17.353985",
     "exception": false,
     "start_time": "2020-09-15T15:23:17.287657",
     "status": "completed"
    },
    "tags": []
   },
   "outputs": [],
   "source": [
    "#best_LGBM_params"
   ]
  },
  {
   "cell_type": "code",
   "execution_count": 29,
   "metadata": {
    "execution": {
     "iopub.execute_input": "2020-09-15T15:23:17.479335Z",
     "iopub.status.busy": "2020-09-15T15:23:17.478528Z",
     "iopub.status.idle": "2020-09-15T15:23:17.481270Z",
     "shell.execute_reply": "2020-09-15T15:23:17.482020Z"
    },
    "papermill": {
     "duration": 0.068996,
     "end_time": "2020-09-15T15:23:17.482182",
     "exception": false,
     "start_time": "2020-09-15T15:23:17.413186",
     "status": "completed"
    },
    "tags": []
   },
   "outputs": [],
   "source": [
    "# this is the best LGBM found using hyperopt\n",
    "# commit version between 15 and 16\n",
    "best_LGBM = LGBMRegressor(random_state=2020, objective='regression', bagging_freq=5,\n",
    "                          learning_rate=0.0024914313311670865,\n",
    "                          n_estimators=3250,\n",
    "                          min_data_in_leaf=5,\n",
    "                          num_leaves=18,\n",
    "                          max_bin=280,\n",
    "                          bagging_fraction=0.21845235737733873)"
   ]
  },
  {
   "cell_type": "code",
   "execution_count": 30,
   "metadata": {
    "execution": {
     "iopub.execute_input": "2020-09-15T15:23:17.609972Z",
     "iopub.status.busy": "2020-09-15T15:23:17.605501Z",
     "iopub.status.idle": "2020-09-15T15:23:40.420209Z",
     "shell.execute_reply": "2020-09-15T15:23:40.421401Z"
    },
    "papermill": {
     "duration": 22.880395,
     "end_time": "2020-09-15T15:23:40.421645",
     "exception": false,
     "start_time": "2020-09-15T15:23:17.541250",
     "status": "completed"
    },
    "tags": []
   },
   "outputs": [
    {
     "name": "stdout",
     "output_type": "stream",
     "text": [
      "LGBM : 0.1143\n"
     ]
    }
   ],
   "source": [
    "score = CV_RMSE(best_LGBM, train.values, train_y.values)\n",
    "print('LGBM : {:.4f}'.format(score.mean()))"
   ]
  },
  {
   "cell_type": "markdown",
   "metadata": {
    "papermill": {
     "duration": 0.070611,
     "end_time": "2020-09-15T15:23:40.564989",
     "exception": false,
     "start_time": "2020-09-15T15:23:40.494378",
     "status": "completed"
    },
    "tags": []
   },
   "source": [
    "### XG Boost"
   ]
  },
  {
   "cell_type": "code",
   "execution_count": 31,
   "metadata": {
    "execution": {
     "iopub.execute_input": "2020-09-15T15:23:40.695397Z",
     "iopub.status.busy": "2020-09-15T15:23:40.694264Z",
     "iopub.status.idle": "2020-09-15T15:23:40.697859Z",
     "shell.execute_reply": "2020-09-15T15:23:40.697255Z"
    },
    "papermill": {
     "duration": 0.068227,
     "end_time": "2020-09-15T15:23:40.698011",
     "exception": false,
     "start_time": "2020-09-15T15:23:40.629784",
     "status": "completed"
    },
    "tags": []
   },
   "outputs": [],
   "source": [
    "#def XGB_fn(params):\n",
    "#    \n",
    "#    params = {'learning_rate' : params['learning_rate'],\n",
    "#              'n_estimators' : int(params['n_estimators']),\n",
    "#              'max_depth' : int(params['max_depth']),\n",
    "#              'min_child_weight' : int(params['min_child_weight']),\n",
    "#              'subsample' : params['subsample'],\n",
    "#              'colsample_bytree' : params['colsample_bytree'],\n",
    "#              'reg_alpha' : params['reg_alpha']}\n",
    "#    \n",
    "#    model = XGBRegressor(random_state=2020, objective='reg:squarederror', **params)\n",
    "#    \n",
    "#    score = np.mean(CV_RMSE(model, train.values, train_y.values))\n",
    "#\n",
    "#    return score"
   ]
  },
  {
   "cell_type": "code",
   "execution_count": 32,
   "metadata": {
    "execution": {
     "iopub.execute_input": "2020-09-15T15:23:40.823549Z",
     "iopub.status.busy": "2020-09-15T15:23:40.822667Z",
     "iopub.status.idle": "2020-09-15T15:23:40.826392Z",
     "shell.execute_reply": "2020-09-15T15:23:40.825739Z"
    },
    "papermill": {
     "duration": 0.068616,
     "end_time": "2020-09-15T15:23:40.826529",
     "exception": false,
     "start_time": "2020-09-15T15:23:40.757913",
     "status": "completed"
    },
    "tags": []
   },
   "outputs": [],
   "source": [
    "#hp_space = {'learning_rate' : hp.loguniform('learning_rate', low=np.log(0.001), high=np.log(0.05)), \n",
    "#            'n_estimators' : hp.quniform('n_estimators', low=3000, high=5000, q=250),\n",
    "#            'max_depth' : hp.quniform('max_depth', low=2, high=8, q=1),\n",
    "#            'min_child_weight' : hp.quniform('min_child_weight', low=0, high=6, q=1),\n",
    "#            'subsample' : hp.uniform('subsample', low=0.2, high=0.9),\n",
    "#            'colsample_bytree' : hp.uniform('colsample_bytree', low=0.05, high=0.5),\n",
    "#            'reg_alpha' : hp.loguniform('reg_alpha', low=np.log(0.001), high=np.log(0.5))}\n",
    "#\n",
    "#XGB_trials = Trials()\n",
    "#best_XGB_params = fmin(fn=XGB_fn, space=hp_space, algo=tpe.suggest, max_evals=25*7,\n",
    "#                       trials=XGB_trials, rstate=np.random.RandomState(1992))"
   ]
  },
  {
   "cell_type": "code",
   "execution_count": 33,
   "metadata": {
    "execution": {
     "iopub.execute_input": "2020-09-15T15:23:40.952294Z",
     "iopub.status.busy": "2020-09-15T15:23:40.951484Z",
     "iopub.status.idle": "2020-09-15T15:23:40.954733Z",
     "shell.execute_reply": "2020-09-15T15:23:40.954108Z"
    },
    "papermill": {
     "duration": 0.068564,
     "end_time": "2020-09-15T15:23:40.954855",
     "exception": false,
     "start_time": "2020-09-15T15:23:40.886291",
     "status": "completed"
    },
    "tags": []
   },
   "outputs": [],
   "source": [
    "#XGB_trials_summary = hyperopt_plot(XGB_trials,\n",
    "#                                   ['learning_rate','n_estimators','max_depth','min_child_weight','subsample','colsample_bytree','reg_alpha'],\n",
    "#                                   [False          ,True          ,True       ,True              ,False      ,False             ,False],\n",
    "#                                   [True           ,False         ,False      ,False             ,False      ,False             ,True])"
   ]
  },
  {
   "cell_type": "code",
   "execution_count": 34,
   "metadata": {
    "execution": {
     "iopub.execute_input": "2020-09-15T15:23:41.082600Z",
     "iopub.status.busy": "2020-09-15T15:23:41.081732Z",
     "iopub.status.idle": "2020-09-15T15:23:41.084779Z",
     "shell.execute_reply": "2020-09-15T15:23:41.084053Z"
    },
    "papermill": {
     "duration": 0.069169,
     "end_time": "2020-09-15T15:23:41.084932",
     "exception": false,
     "start_time": "2020-09-15T15:23:41.015763",
     "status": "completed"
    },
    "tags": []
   },
   "outputs": [],
   "source": [
    "#best_XGB_params"
   ]
  },
  {
   "cell_type": "code",
   "execution_count": 35,
   "metadata": {
    "execution": {
     "iopub.execute_input": "2020-09-15T15:23:41.215144Z",
     "iopub.status.busy": "2020-09-15T15:23:41.214328Z",
     "iopub.status.idle": "2020-09-15T15:23:41.217536Z",
     "shell.execute_reply": "2020-09-15T15:23:41.216730Z"
    },
    "papermill": {
     "duration": 0.070574,
     "end_time": "2020-09-15T15:23:41.217672",
     "exception": false,
     "start_time": "2020-09-15T15:23:41.147098",
     "status": "completed"
    },
    "tags": []
   },
   "outputs": [],
   "source": [
    "# this is the best XGB found using hyperopt\n",
    "# commit version 17\n",
    "best_XGB = XGBRegressor(random_state=2020, objective='reg:squarederror',\n",
    "                        learning_rate=0.005534694886280049,\n",
    "                        n_estimators=4500,\n",
    "                        max_depth=5,\n",
    "                        min_child_weight=1,\n",
    "                        subsample=0.20168620263669185,\n",
    "                        colsample_bytree=0.31135298922642873,\n",
    "                        reg_alpha=0.39790784811926205)"
   ]
  },
  {
   "cell_type": "code",
   "execution_count": 36,
   "metadata": {
    "execution": {
     "iopub.execute_input": "2020-09-15T15:23:41.350959Z",
     "iopub.status.busy": "2020-09-15T15:23:41.344785Z",
     "iopub.status.idle": "2020-09-15T15:24:02.397558Z",
     "shell.execute_reply": "2020-09-15T15:24:02.398612Z"
    },
    "papermill": {
     "duration": 21.120324,
     "end_time": "2020-09-15T15:24:02.398854",
     "exception": false,
     "start_time": "2020-09-15T15:23:41.278530",
     "status": "completed"
    },
    "tags": []
   },
   "outputs": [
    {
     "name": "stdout",
     "output_type": "stream",
     "text": [
      "XGB : 0.1116\n"
     ]
    }
   ],
   "source": [
    "score = CV_RMSE(best_XGB, train.values, train_y.values)\n",
    "print('XGB : {:.4f}'.format(score.mean()))"
   ]
  },
  {
   "cell_type": "markdown",
   "metadata": {
    "papermill": {
     "duration": 0.072918,
     "end_time": "2020-09-15T15:24:02.545314",
     "exception": false,
     "start_time": "2020-09-15T15:24:02.472396",
     "status": "completed"
    },
    "tags": []
   },
   "source": [
    "### Stacked Meta-Learner"
   ]
  },
  {
   "cell_type": "code",
   "execution_count": 37,
   "metadata": {
    "execution": {
     "iopub.execute_input": "2020-09-15T15:24:02.680205Z",
     "iopub.status.busy": "2020-09-15T15:24:02.679406Z",
     "iopub.status.idle": "2020-09-15T15:24:02.682654Z",
     "shell.execute_reply": "2020-09-15T15:24:02.682027Z"
    },
    "papermill": {
     "duration": 0.06972,
     "end_time": "2020-09-15T15:24:02.682796",
     "exception": false,
     "start_time": "2020-09-15T15:24:02.613076",
     "status": "completed"
    },
    "tags": []
   },
   "outputs": [],
   "source": [
    "estimators = [('GBR',best_GBR), ('LGBM',best_LGBM), ('XGB',best_XGB)]"
   ]
  },
  {
   "cell_type": "code",
   "execution_count": 38,
   "metadata": {
    "execution": {
     "iopub.execute_input": "2020-09-15T15:24:02.813087Z",
     "iopub.status.busy": "2020-09-15T15:24:02.812224Z",
     "iopub.status.idle": "2020-09-15T15:24:02.815959Z",
     "shell.execute_reply": "2020-09-15T15:24:02.815312Z"
    },
    "papermill": {
     "duration": 0.07154,
     "end_time": "2020-09-15T15:24:02.816105",
     "exception": false,
     "start_time": "2020-09-15T15:24:02.744565",
     "status": "completed"
    },
    "tags": []
   },
   "outputs": [],
   "source": [
    "#def meta_fn(params):\n",
    "#    \n",
    "#    params = {'learning_rate' : params['learning_rate'],\n",
    "#              'n_estimators' : int(params['n_estimators']),\n",
    "#              'max_depth' : int(params['max_depth']),\n",
    "#              'min_child_weight' : int(params['min_child_weight']),\n",
    "#              'subsample' : params['subsample'],\n",
    "#              'colsample_bytree' : params['colsample_bytree'],\n",
    "#              'reg_alpha' : params['reg_alpha']}\n",
    "#    \n",
    "#    meta_XGB = XGBRegressor(random_state=2020, objective='reg:squarederror', **params)\n",
    "#    \n",
    "#    model = StackingRegressor(estimators=estimators, final_estimator=meta_XGB, cv=kfolds, passthrough=True)\n",
    "#    \n",
    "#    score = np.mean(CV_RMSE(model, train.values, train_y.values))\n",
    "#\n",
    "#    return score"
   ]
  },
  {
   "cell_type": "code",
   "execution_count": 39,
   "metadata": {
    "execution": {
     "iopub.execute_input": "2020-09-15T15:24:02.946400Z",
     "iopub.status.busy": "2020-09-15T15:24:02.945581Z",
     "iopub.status.idle": "2020-09-15T15:24:02.949383Z",
     "shell.execute_reply": "2020-09-15T15:24:02.948675Z"
    },
    "papermill": {
     "duration": 0.071019,
     "end_time": "2020-09-15T15:24:02.949523",
     "exception": false,
     "start_time": "2020-09-15T15:24:02.878504",
     "status": "completed"
    },
    "tags": []
   },
   "outputs": [],
   "source": [
    "#hp_space = {'learning_rate' : hp.loguniform('learning_rate', low=np.log(0.001), high=np.log(0.05)), \n",
    "#            'n_estimators' : hp.quniform('n_estimators', low=3000, high=5000, q=250),\n",
    "#            'max_depth' : hp.quniform('max_depth', low=2, high=8, q=1),\n",
    "#            'min_child_weight' : hp.quniform('min_child_weight', low=0, high=6, q=1),\n",
    "#            'subsample' : hp.uniform('subsample', low=0.2, high=0.9),\n",
    "#            'colsample_bytree' : hp.uniform('colsample_bytree', low=0.05, high=0.5),\n",
    "#            'reg_alpha' : hp.loguniform('reg_alpha', low=np.log(0.001), high=np.log(0.5))}\n",
    "#\n",
    "#meta_trials = Trials()\n",
    "#best_meta_params = fmin(fn=meta_fn, space=hp_space, algo=tpe.suggest, max_evals=50,\n",
    "#                        trials=meta_trials, rstate=np.random.RandomState(1992))"
   ]
  },
  {
   "cell_type": "code",
   "execution_count": 40,
   "metadata": {
    "execution": {
     "iopub.execute_input": "2020-09-15T15:24:03.134079Z",
     "iopub.status.busy": "2020-09-15T15:24:03.133203Z",
     "iopub.status.idle": "2020-09-15T15:24:03.137687Z",
     "shell.execute_reply": "2020-09-15T15:24:03.137031Z"
    },
    "papermill": {
     "duration": 0.07255,
     "end_time": "2020-09-15T15:24:03.137840",
     "exception": false,
     "start_time": "2020-09-15T15:24:03.065290",
     "status": "completed"
    },
    "tags": []
   },
   "outputs": [],
   "source": [
    "#meta_trials_summary = hyperopt_plot(meta_trials,\n",
    "#                                    ['learning_rate','n_estimators','max_depth','min_child_weight','subsample','colsample_bytree','reg_alpha'],\n",
    "#                                    [False          ,True          ,True       ,True              ,False      ,False             ,False],\n",
    "#                                    [True           ,False         ,False      ,False             ,False      ,False             ,True])"
   ]
  },
  {
   "cell_type": "code",
   "execution_count": 41,
   "metadata": {
    "execution": {
     "iopub.execute_input": "2020-09-15T15:24:03.268771Z",
     "iopub.status.busy": "2020-09-15T15:24:03.267914Z",
     "iopub.status.idle": "2020-09-15T15:24:03.271460Z",
     "shell.execute_reply": "2020-09-15T15:24:03.270645Z"
    },
    "papermill": {
     "duration": 0.070769,
     "end_time": "2020-09-15T15:24:03.271598",
     "exception": false,
     "start_time": "2020-09-15T15:24:03.200829",
     "status": "completed"
    },
    "tags": []
   },
   "outputs": [],
   "source": [
    "#best_meta_params"
   ]
  },
  {
   "cell_type": "code",
   "execution_count": 42,
   "metadata": {
    "execution": {
     "iopub.execute_input": "2020-09-15T15:24:03.407315Z",
     "iopub.status.busy": "2020-09-15T15:24:03.406321Z",
     "iopub.status.idle": "2020-09-15T15:24:03.409305Z",
     "shell.execute_reply": "2020-09-15T15:24:03.409898Z"
    },
    "papermill": {
     "duration": 0.075065,
     "end_time": "2020-09-15T15:24:03.410075",
     "exception": false,
     "start_time": "2020-09-15T15:24:03.335010",
     "status": "completed"
    },
    "tags": []
   },
   "outputs": [],
   "source": [
    "# this is the best meta-learner found using hyperopt\n",
    "# commit version 20\n",
    "best_meta_XGB = XGBRegressor(random_state=2020, objective='reg:squarederror',\n",
    "                             learning_rate=0.002274315962928884,\n",
    "                             n_estimators=4000,\n",
    "                             max_depth=5,\n",
    "                             min_child_weight=2,\n",
    "                             subsample=0.4891190054573029,\n",
    "                             colsample_bytree=0.19153865229872344,\n",
    "                             reg_alpha=0.2514124680611613)\n",
    "\n",
    "best_meta = StackingRegressor(estimators=estimators, final_estimator=best_meta_XGB, cv=kfolds, passthrough=True)"
   ]
  },
  {
   "cell_type": "code",
   "execution_count": 43,
   "metadata": {
    "execution": {
     "iopub.execute_input": "2020-09-15T15:24:03.542535Z",
     "iopub.status.busy": "2020-09-15T15:24:03.541597Z",
     "iopub.status.idle": "2020-09-15T15:33:29.129216Z",
     "shell.execute_reply": "2020-09-15T15:33:29.130004Z"
    },
    "papermill": {
     "duration": 565.656622,
     "end_time": "2020-09-15T15:33:29.130217",
     "exception": false,
     "start_time": "2020-09-15T15:24:03.473595",
     "status": "completed"
    },
    "tags": []
   },
   "outputs": [
    {
     "name": "stdout",
     "output_type": "stream",
     "text": [
      "meta : 0.1117\n"
     ]
    }
   ],
   "source": [
    "score = CV_RMSE(best_meta, train.values, train_y.values)\n",
    "print('meta : {:.4f}'.format(score.mean()))"
   ]
  },
  {
   "cell_type": "markdown",
   "metadata": {
    "papermill": {
     "duration": 0.066002,
     "end_time": "2020-09-15T15:33:29.271578",
     "exception": false,
     "start_time": "2020-09-15T15:33:29.205576",
     "status": "completed"
    },
    "tags": []
   },
   "source": [
    "## Submission\n",
    "\n",
    "Make predictions and submit:"
   ]
  },
  {
   "cell_type": "code",
   "execution_count": 44,
   "metadata": {
    "execution": {
     "iopub.execute_input": "2020-09-15T15:33:29.408695Z",
     "iopub.status.busy": "2020-09-15T15:33:29.407438Z",
     "iopub.status.idle": "2020-09-15T15:36:00.274024Z",
     "shell.execute_reply": "2020-09-15T15:36:00.275101Z"
    },
    "papermill": {
     "duration": 150.940983,
     "end_time": "2020-09-15T15:36:00.275320",
     "exception": false,
     "start_time": "2020-09-15T15:33:29.334337",
     "status": "completed"
    },
    "tags": []
   },
   "outputs": [],
   "source": [
    "best_GBR.fit(train.values, train_y.values)\n",
    "best_LGBM.fit(train.values, train_y.values)\n",
    "best_XGB.fit(train.values, train_y.values)\n",
    "best_meta.fit(train.values, train_y.values)\n",
    "\n",
    "# weight model predictions based on their cross-valided RMSE\n",
    "test_y = (0.3 * best_GBR.predict(test.values)) + \\\n",
    "         (0.1 * best_LGBM.predict(test.values)) + \\\n",
    "         (0.3 * best_XGB.predict(test.values)) + \\\n",
    "         (0.3 * best_meta.predict(test.values))\n",
    "\n",
    "sub = pd.DataFrame()\n",
    "sub['Id'] = test_Id\n",
    "sub['SalePrice'] = test_y\n",
    "sub.to_csv('submission.csv',index=False)"
   ]
  }
 ],
 "metadata": {
  "kernelspec": {
   "display_name": "Python 3",
   "language": "python",
   "name": "python3"
  },
  "language_info": {
   "codemirror_mode": {
    "name": "ipython",
    "version": 3
   },
   "file_extension": ".py",
   "mimetype": "text/x-python",
   "name": "python",
   "nbconvert_exporter": "python",
   "pygments_lexer": "ipython3",
   "version": "3.7.6"
  },
  "papermill": {
   "duration": 834.633593,
   "end_time": "2020-09-15T15:36:00.460331",
   "environment_variables": {},
   "exception": null,
   "input_path": "__notebook__.ipynb",
   "output_path": "__notebook__.ipynb",
   "parameters": {},
   "start_time": "2020-09-15T15:22:05.826738",
   "version": "2.1.0"
  }
 },
 "nbformat": 4,
 "nbformat_minor": 4
}
